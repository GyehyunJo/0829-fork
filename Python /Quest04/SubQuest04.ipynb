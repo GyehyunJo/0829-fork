{
  "nbformat": 4,
  "nbformat_minor": 0,
  "metadata": {
    "colab": {
      "provenance": [],
      "include_colab_link": true
    },
    "kernelspec": {
      "name": "python3",
      "display_name": "Python 3"
    },
    "language_info": {
      "name": "python"
    }
  },
  "cells": [
    {
      "cell_type": "markdown",
      "metadata": {
        "id": "view-in-github",
        "colab_type": "text"
      },
      "source": [
        "<a href=\"https://colab.research.google.com/github/chezazyzdzezn/AIFFEL_quest_cr/blob/main/Python%20/Quest04/SubQuest04.ipynb\" target=\"_parent\"><img src=\"https://colab.research.google.com/assets/colab-badge.svg\" alt=\"Open In Colab\"/></a>"
      ]
    },
    {
      "cell_type": "code",
      "execution_count": null,
      "metadata": {
        "id": "_-mIC6DLsRbB"
      },
      "outputs": [],
      "source": [
        "#import\n",
        "#try, except\n",
        "#if, for, elif, else\n",
        "#while"
      ]
    },
    {
      "cell_type": "markdown",
      "source": [
        "조건 1. 사용자가 입력한 값이 정수가 아닌 경우 ValueError를 처리하여 적절한 오류 메시지를 출력한다.\n",
        "\n",
        "조건 2. 정수가 입력될 때 까지 \"잘못된 입력입니다. 정수를 입력해주세요.\"를 출력하며 다시 입력받기를 시도합니다.\n",
        "\n",
        "조건 3. 나눗셈 연산 시 두번째 정수가 0인 경우 ZeroDivisionError를 처리하여 적절한 오류메시지 출력\n",
        "\n",
        "조건 4. 사용자가 지원하지 않은 연산자를 입력한 경우 적절한 오류메시지를 출력\n",
        "\n",
        "조건 5. math 모듈을 사용하여 제곱 연산을 지원\n",
        "\n",
        "조건 6. 계산기를 통해 계속 계산할 것인지 입력받는다.\n",
        "\n"
      ],
      "metadata": {
        "id": "_tIf3o9B6d5_"
      }
    },
    {
      "cell_type": "code",
      "source": [
        "import math # 조건 5 충족: math 모듈을 임포트\n",
        "\n",
        "calculator = True\n",
        "continue_q = True\n",
        "\n",
        "while(calculator):\n",
        "  try:\n",
        "\n",
        "    while(True):\n",
        "      try:\n",
        "        # 첫 번째 정수를 입력받아 숫자인지 확인 후 실수로 변환\n",
        "        num = input(\"첫번째 정수를 입력하세요: \")\n",
        "\n",
        "        if num.isdigit(): # 입력값이 숫자인지 확인\n",
        "          a = float(num)  # 실수로 변환하여 변수 a에 저장\n",
        "          break\n",
        "\n",
        "        else:\n",
        "          print(\"정수가 아닙니다. 다시 입력하세요.\")\n",
        "          raise ValueError(\"정수가 아닙니다.\")  # 숫자가 아니면 ValueError 발생\n",
        "\n",
        "      except:\n",
        "        continue\n",
        "\n",
        "  # 사칙연산자를 입력받기\n",
        "    cal = input(\"사칙연산을 입력하세요: \")\n",
        "\n",
        "    # 입력한 연산자가 +, -, *, /, ** 중 하나인지 확인\n",
        "    if cal not in [\"+\", \"-\", \"*\", \"/\", \"**\"] :\n",
        "      #  많은 if문을 not in []을 사용하여 코드 축약\n",
        "      # if cal != \"-\":\n",
        "        # if cal != \"*\":\n",
        "          # if cal != \"/\":\n",
        "            # if cal != \"**\":\n",
        "      raise ValueError(\"사칙연산이 아닙니다.\")  # 연산자가 아닐 경우 ValueError 발생\n",
        "\n",
        "\n",
        "    while (True):\n",
        "      try:\n",
        "        # 두 번째 정수를 입력받아 숫자인지 확인 후 실수로 변환\n",
        "        num = input(\"두번째 정수를 입력하세요: \")\n",
        "\n",
        "        if num.isdigit(): # 입력값이 숫자인지 확인\n",
        "          b = float(num)  # 실수로 변환하여 변수 b에 저장\n",
        "          break\n",
        "\n",
        "        else:\n",
        "          print(\"정수가 아닙니다. 다시 입력하세요.\")\n",
        "          raise ValueError(\"정수가 아닙니다.\")  # 숫자가 아니면 ValueError 발생\n",
        "\n",
        "      except:\n",
        "        continue\n",
        "\n",
        "    # 입력된 연산자에 따라 계산하기\n",
        "    if cal == \"+\":\n",
        "      print(a+b)  # 덧셈 출력\n",
        "    elif cal == \"-\":\n",
        "      print(a-b)  # 뺄셈 출력\n",
        "    elif cal == \"*\":\n",
        "      print(a*b)  # 곱셈 출력\n",
        "    elif cal == \"/\":\n",
        "      if b == 0:  # 나누는 값이 0인지 확인\n",
        "        raise ZeroDivisionError(\"0으로 나눌 수 없습니다.\")    # 0으로 나누면 ZeroDivisionError 발생\n",
        "      print(a/b)  # 나눗셈 출력\n",
        "    elif cal == \"**\":\n",
        "      print(math.pow(a, b))  # 조건 5 충족: pow함수를 사용하여 제곱 계산 출력\n",
        "\n",
        "  # 정수가 아닌 값을 입력받았을 때 발생하는 에러 처리\n",
        "  except ValueError as ve:\n",
        "    print(\"에러발생\")\n",
        "\n",
        "  # 0으로 나누었을때 발생하는 에러 처리\n",
        "  except ZeroDivisionError as zde:\n",
        "    print(\"에러발생\")   #AttributeError 발생, a = float(num)수정\n",
        "\n",
        "  finally:\n",
        "    while(continue_q):\n",
        "      con = input(\"계속 계산하시겠습니까? (예/아니오)\")\n",
        "      if con == \"예\":\n",
        "        # continue\n",
        "        # 단순히 continue만 기입했더니 정수를 입력하는 줄로 가지 않고 \"계속 계산하시겠습니까?\"로 간다..\n",
        "        break\n",
        "\n",
        "      elif con == \"아니오\":\n",
        "        print(\"프로그램을 종료합니다.\")\n",
        "        calculator = False\n",
        "        break\n",
        "\n",
        "      else:\n",
        "        print(\"잘못 입력하셨습니다.\")\n"
      ],
      "metadata": {
        "colab": {
          "base_uri": "https://localhost:8080/"
        },
        "id": "H1e_9JKbupzo",
        "outputId": "d061ba45-2ade-4269-8c36-86911f83b7b8"
      },
      "execution_count": null,
      "outputs": [
        {
          "name": "stdout",
          "output_type": "stream",
          "text": [
            "첫번째 정수를 입력하세요: -159\n",
            "첫번째 정수를 입력하세요: 150\n",
            "첫번째 정수를 입력하세요: 아니\n",
            "첫번째 정수를 입력하세요: 150\n"
          ]
        }
      ]
    },
    {
      "cell_type": "markdown",
      "source": [
        "#회고\n",
        "\n",
        "[김승기]\n",
        "조건을 생각하며 코드를 추가하다보니 매우 조잡해졌습니다.\n",
        "\n",
        "---\n",
        "[김아영]\n",
        "조건이 생각보다 많아서 코딩 순서를 정립하기가 쉽지 않았는데 우선 처음엔 필요한 함수 등과 같이 사용할 것들을 적어두었고 코딩을 할 때 빠진 함수가 없는지 확인하면서 작업하였습니다. 중간중간에 에러나는 부분은 빠짐없이 주석처리하여 기입해놨고 다음에 볼때 무엇이 문제였는지 확인할 수 있을 것 같습니다.\n"
      ],
      "metadata": {
        "id": "JBzitTlGEmnQ"
      }
    }
  ]
}